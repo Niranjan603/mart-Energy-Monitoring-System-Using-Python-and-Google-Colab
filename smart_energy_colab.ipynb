{
 "cells": [
  {
   "cell_type": "markdown",
   "id": "a432c299",
   "metadata": {},
   "source": [
    "# Smart Energy Monitoring (Colab Version)\n",
    "Simulate current readings, detect high usage, save to CSV, and visualize using Python in Google Colab."
   ]
  },
  {
   "cell_type": "code",
   "execution_count": null,
   "id": "8ae95e6f",
   "metadata": {},
   "outputs": [],
   "source": [
    "import random\n",
    "import time\n",
    "import pandas as pd\n",
    "import matplotlib.pyplot as plt\n",
    "\n",
    "readings = []\n",
    "threshold = 3.5  # Amps\n",
    "\n",
    "print(\"Starting simulation...\")\n",
    "for i in range(30):  # simulate 30 readings\n",
    "    current = round(random.uniform(0.2, 4.5), 2)\n",
    "    timestamp = time.strftime(\"%H:%M:%S\")\n",
    "    alert = \"YES\" if current > threshold else \"NO\"\n",
    "    readings.append((timestamp, current, alert))\n",
    "    \n",
    "    print(f\"{timestamp} | Current: {current} A | Alert: {alert}\")\n",
    "    time.sleep(0.5)\n"
   ]
  },
  {
   "cell_type": "code",
   "execution_count": null,
   "id": "5e7cbacf",
   "metadata": {},
   "outputs": [],
   "source": [
    "# Save data to CSV\n",
    "df = pd.DataFrame(readings, columns=[\"Time\", \"Current\", \"Alert\"])\n",
    "df.to_csv(\"energy_data_log.csv\", index=False)\n",
    "df.head()\n"
   ]
  },
  {
   "cell_type": "code",
   "execution_count": null,
   "id": "d3dbc823",
   "metadata": {},
   "outputs": [],
   "source": [
    "# Plot current readings\n",
    "plt.figure(figsize=(10, 4))\n",
    "plt.plot(df[\"Time\"], df[\"Current\"], marker='o', label=\"Current (A)\")\n",
    "plt.axhline(y=threshold, color='r', linestyle='--', label=\"Threshold (3.5A)\")\n",
    "plt.xticks(rotation=45)\n",
    "plt.legend()\n",
    "plt.title(\"Simulated Current Readings\")\n",
    "plt.xlabel(\"Time\")\n",
    "plt.ylabel(\"Current (A)\")\n",
    "plt.tight_layout()\n",
    "plt.grid(True)\n",
    "plt.show()\n"
   ]
  }
 ],
 "metadata": {},
 "nbformat": 4,
 "nbformat_minor": 5
}